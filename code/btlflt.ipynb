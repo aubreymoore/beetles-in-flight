{
 "cells": [
  {
   "cell_type": "markdown",
   "metadata": {},
   "source": [
    "# btlflt.ipynb\n",
    "\n",
    "There is much interest in using insect wimgbeat waveforms for automated monitoring of insect flight activity. [Perform a Google search for \"insect wingbeat waveform\"](https://www.google.com/search?client=ubuntu&channel=fs&q=insect+wingbeat+harmonics#vhid=RcBJqwjT8KH1GM&vssid=l) to see what I mean. \n",
    "\n",
    "Wingbeat waveforms can be recorded acoustically using a microphone, or optically using a photosensor. \n",
    "\n",
    "Here is the waveform and frequency spectrum of a mosquito I recorded way back in 1984 using a photodiode:\n",
    "\n",
    "<img src=\"../images/example_waveform.png\" width = \"500px\">\n",
    "\n",
    "From [Moore, A. 1991. Artificial neural network trained to identify mosquitoes in flight.](https://www.researchgate.net/publication/226904676_Artificial_neural_network_trained_to_identify_mosquitoes_in_flight)\n",
    "\n",
    "As you can see, spectral analysis of an insect wingbeat waveforms reveals that it contains a harmonic series consisting of the wingbeat frequency plus harmonics occurring at integer multiples of the wingbeat frequency.\n",
    "\n",
    "I suggested that automated instrumentation could be developed to identify species of flying insects by recognizing spectral patterns formed by harmonics in much the same way in which the human brain and ear identifies musical instruments by recognizing distinct harmonic patterns in the sounds they produce (Moore, A. 1986).\n",
    "\n",
    "Ever since doing this research 40 years ago, I have wondered about the origin of harmonics in optically recorded insect wingbeat waveforms. Here is an unpublished chart I made to help figure this out:\n",
    "\n",
    "<img src=\"../images/waveform_chart.png\">\n",
    "\n",
    "\n",
    "\n",
    "\n",
    "\n",
    "\n"
   ]
  },
  {
   "cell_type": "code",
   "execution_count": 1,
   "metadata": {},
   "outputs": [],
   "source": [
    "import os\n",
    "import cv2\n",
    "import numpy as np\n",
    "import matplotlib.pyplot as plt\n",
    "%matplotlib inline\n",
    "from IPython.display import display, clear_output\n",
    "from icecream import ic\n",
    "from scipy.io import wavfile\n",
    "\n",
    "from scipy.signal import butter, lfilter\n",
    "from scipy.signal import freqz\n",
    "from scipy.fft import rfft, rfftfreq"
   ]
  },
  {
   "cell_type": "code",
   "execution_count": 8,
   "metadata": {},
   "outputs": [],
   "source": [
    "# Note: ```.gitignore``` includes VIDEOPATH and FRAMESDIR\n",
    "\n",
    "VIDEO_PATH = 'video.mp4'\n",
    "FRAMES_DIR = 'frames'\n",
    "FIGURES_DIR = 'figures'\n",
    "FIRST_FRAME_NUM = 1\n",
    "LAST_FRAME_NUM = 718\n",
    "SAMPLE_RATE = 6000"
   ]
  },
  {
   "cell_type": "code",
   "execution_count": 9,
   "metadata": {},
   "outputs": [],
   "source": [
    "def create_square_wav(filepath:str, sample_rate:int, frequency:float, duration:float)->None:\n",
    "    \"\"\" \n",
    "    Creates and saves a WAV file. Data saved as np.float32 ranging from -0.99 to 0.99\n",
    "    \"\"\"\n",
    "    t = np.linspace(start=0., stop=duration,  num= int(duration * sample_rate), endpoint=False)\n",
    "    square_wave = 0.99 * signal.square(2. * np.pi * frequency * t)\n",
    "    wavfile.write(filepath, sample_rate, square_wave.astype(np.float32))\n",
    "\n",
    "# create_square_wav(filepath='square_wave.wav', sample_rate=6000, frequency=100., duration=0.1)"
   ]
  },
  {
   "cell_type": "code",
   "execution_count": 10,
   "metadata": {},
   "outputs": [],
   "source": [
    "def create_sine_wav(filepath:str, sample_rate:int, frequency:float, duration:float)->None:\n",
    "    \"\"\" \n",
    "    Creates and saves a WAV file. Data saved as np.float32 ranging from -0.99 to 0.99\n",
    "    \"\"\"\n",
    "    t = np.linspace(start=0, stop=duration, num=int(duration * sample_rate), endpoint=False)\n",
    "    sine_wave = 0.99 * np.sin(2. * np.pi * frequency * t)\n",
    "    wavfile.write(filepath, sample_rate, sine_wave.astype(np.float32))\n",
    "\n",
    "# create_sine_wav(filepath='sine_wave.wav', sample_rate=6000, frequency=100., duration=0.1)"
   ]
  },
  {
   "cell_type": "code",
   "execution_count": 11,
   "metadata": {},
   "outputs": [],
   "source": [
    "def convert_wav_from_float64_to_int16(src_wav_path, dest_wav_path):\n",
    "    \"\"\" \n",
    "    Converts a WAV file from float64 to int16.\n",
    "    This function facilitates using a WAV file in a web page with HTML code like:\n",
    "    HTML example: <audio controls src=\"myfile.wav\"></audio>\n",
    "    This code does not work for 64-bit or 32-bit WAV files.\n",
    "    \"\"\"\n",
    "    samplerate, data = wavfile.read('beetle.wav')\n",
    "    if data.dtype == 'float64':\n",
    "        maxint = np.iinfo(np.int16).max\n",
    "        data = np.int16((maxint - 1) * data)   # rescales data values from (-1.0, 1.0) to (-32766, 32766)\n",
    "        wavfile.write('beetle_16bit.wav', samplerate, data)\n",
    "    else:\n",
    "        print(f'WARNING: {src_wav_path} was not converted because source data.dtype is not float64')\n",
    "        \n",
    "# convert_wav_from_float64_to_int16('beetle.wav', 'beetle_16bit.wav')"
   ]
  },
  {
   "cell_type": "code",
   "execution_count": 12,
   "metadata": {},
   "outputs": [],
   "source": [
    "# def calc_intensity_list(images_dir, first_frame_num, last_frame_num, normalize=True):\n",
    "#     \"\"\"\n",
    "#     Calculates the average intensity of pixels within each frame of the video scene.\n",
    "#     If normalize is True, intensity_list will be normalized so that mean is zero and range is -1 to 1.\n",
    "#     \"\"\"\n",
    "#     intensity_list = []\n",
    "#     for frame_num in range(first_frame_num, last_frame_num + 1):\n",
    "#         image = cv2.imread(f'{images_dir}/{frame_num:04d}.png', cv2.IMREAD_GRAYSCALE)\n",
    "#         intensity = np.mean(image)\n",
    "#         intensity_list.append(intensity)\n",
    "#     if normalize:\n",
    "#         intensity_list = normalize_array(intensity_list)\n",
    "#     return intensity_list\n",
    "\n",
    "# calc_intensity_list(FRAMES_DIR, FIRST_FRAME_NUM, LAST_FRAME_NUM)"
   ]
  },
  {
   "cell_type": "code",
   "execution_count": 13,
   "metadata": {},
   "outputs": [],
   "source": [
    "def normalize_array(arr):\n",
    "    \"\"\" \n",
    "    Normalize array to range between -0.99 and 0.99 with a mean of 0.\n",
    "    \"\"\" \n",
    "    arr = arr - np.mean(arr)\n",
    "    scale_factor = 0.99 * max(abs(np.min(arr)), np.max(arr))\n",
    "    return arr / scale_factor\n",
    "\n",
    "# normalized_intensity_list = normalize_array(intensity_list)"
   ]
  },
  {
   "cell_type": "code",
   "execution_count": 14,
   "metadata": {},
   "outputs": [],
   "source": [
    "def calc_intensity_time_series(images_dir:str, first_image:int, last_image:int, normalize:bool=True):\n",
    "    \"\"\"\n",
    "    Calculates the average intensity of pixels within each frame of the video scene.\n",
    "    If normalize is True, intensity_list will be normalized so that mean is zero and range is -1 to 1.\n",
    "    \"\"\"\n",
    "    intensity_list = []\n",
    "    for image_num in range(first_image, last_image + 1):\n",
    "        image = cv2.imread(f'{images_dir}/{image_num:04d}.png', cv2.IMREAD_GRAYSCALE)\n",
    "        intensity = np.mean(image)\n",
    "        intensity_list.append(intensity)\n",
    "    if normalize:\n",
    "        intensity_list = normalize_array(intensity_list)\n",
    "    return intensity_list\n",
    "\n",
    "# calc_intensity_list(FRAMES_DIR, FIRST_FRAME_NUM, LAST_FRAME_NUM)"
   ]
  },
  {
   "cell_type": "code",
   "execution_count": 15,
   "metadata": {},
   "outputs": [],
   "source": [
    "def plot_time_frequency(samplerate, data):\n",
    "    \"\"\"\n",
    "    Plots a WAV file in time domain and frequency domain.\n",
    "    The figure and its 2 sets of axes are returned so that these objects can be modified.\n",
    "    \"\"\"\n",
    "\n",
    "    # Read WAV file\n",
    "    ic(samplerate)\n",
    "    ic(data.shape)\n",
    "    duration = data.shape[0] / samplerate\n",
    "    time = np.linspace(0., duration, data.shape[0])\n",
    "\n",
    "    # Perform FFT and calculate frequency array\n",
    "    power = np.abs(rfft(data))\n",
    "    freq = rfftfreq(data.shape[0], 1/samplerate)\n",
    "    \n",
    "    # Create plot\n",
    "    fig, (axt, axf) = plt.subplots(2, 1, constrained_layout=1, figsize=(7, 7))\n",
    "\n",
    "    axt.plot(time, data, lw=1)\n",
    "    axt.set_xlabel('time (s)')\n",
    "    axt.set_ylabel('amplitude')\n",
    "\n",
    "    axf.plot(freq, power, lw=1)\n",
    "    axf.set_xlabel('frequency (Hz)')\n",
    "    axf.set_ylabel('amplitude')\n",
    "    axf.fill_between(freq, power)\n",
    "    \n",
    "    return fig, (axt, axf)\n",
    "\n",
    "# wavefile_path = 'square_wave.wav'        \n",
    "# fig, (axt, axf) = plot_time_frequency(wavefile_path)\n",
    "# fig.suptitle(f'{wavefile_path} | fundamental freqency = ???')\n",
    "# axf.set_xlim(0, 100)"
   ]
  },
  {
   "cell_type": "code",
   "execution_count": 16,
   "metadata": {},
   "outputs": [],
   "source": [
    "def create_frame_intensity_figure(frame_num, seconds_list, intensity_list, frame_path, fig_path):\n",
    "    \"\"\"\n",
    "    Creates an image with two subplots: the frame image and the intensity plot.\n",
    "    \"\"\"\n",
    " \n",
    "    # Create figure\n",
    "    fig, (ax1, ax2) = plt.subplots(2, 1, figsize=(6,6))\n",
    "\n",
    "    # Create image plot\n",
    "    image = plt.imread(frame_path)\n",
    "    ax1.imshow(image)\n",
    "    ax1.set_title(f'Frame {frame_num} | normalized mean pixel intensity: {intensity_list[frame_num-1]:.2f}')\n",
    "    ax1.axis('off')\n",
    "\n",
    "    # Create a sample plot\n",
    "    x = seconds_list[:frame_num]\n",
    "    y = intensity_list[:frame_num]\n",
    "\n",
    "    ax2.plot(x, y)\n",
    "    ax2.set_xlabel('time (s)')\n",
    "    ax2.set_ylabel('normalized mean pixel intensity')\n",
    "    ax2.set_xlim(min(seconds_list), max(seconds_list))\n",
    "    ax2.set_ylim(-1, 1)\n",
    "\n",
    "    # plt.tight_layout()\n",
    "    \n",
    "    # Save figure in a file\n",
    "    fig.tight_layout\n",
    "    fig.savefig(fig_path)\n",
    "    plt.close(fig)\n",
    " \n",
    "   \n",
    "# create_frame_intensity_figure(1, seconds_list, intensity_list, 'frames/0001.png', 'test.png')"
   ]
  },
  {
   "cell_type": "code",
   "execution_count": 17,
   "metadata": {},
   "outputs": [],
   "source": [
    "# from scipy.signal import butter, lfilter\n",
    "\n",
    "def butter_bandpass(lowcut, highcut, fs, order=5):\n",
    "    nyq = 0.5 * fs\n",
    "    low = lowcut / nyq\n",
    "    high = highcut / nyq\n",
    "    b, a = butter(order, [low, high], btype='band')\n",
    "    return b, a\n",
    "\n",
    "\n",
    "def butter_bandpass_filter(data, lowcut, highcut, fs, order=5):\n",
    "    b, a = butter_bandpass(lowcut, highcut, fs, order=order)\n",
    "    y = lfilter(b, a, data)\n",
    "    return y\n",
    "\n",
    "\n",
    "def run():\n",
    "    # import numpy as np\n",
    "    # import matplotlib.pyplot as plt\n",
    "    # from scipy.signal import freqz\n",
    "\n",
    "    # Sample rate and desired cutoff frequencies (in Hz).\n",
    "    fs = 5000.0\n",
    "    lowcut = 500.0\n",
    "    highcut = 1250.0\n",
    "\n",
    "    # Plot the frequency response for a few different orders.\n",
    "    plt.figure(1)\n",
    "    plt.clf()\n",
    "    for order in [3, 6, 9]:\n",
    "        b, a = butter_bandpass(lowcut, highcut, fs, order=order)\n",
    "        w, h = freqz(b, a, worN=2000)\n",
    "        plt.plot((fs * 0.5 / np.pi) * w, abs(h), label=\"order = %d\" % order)\n",
    "\n",
    "    plt.plot([0, 0.5 * fs], [np.sqrt(0.5), np.sqrt(0.5)],\n",
    "             '--', label='sqrt(0.5)')\n",
    "    plt.xlabel('Frequency (Hz)')\n",
    "    plt.ylabel('Gain')\n",
    "    plt.grid(True)\n",
    "    plt.legend(loc='best')\n",
    "\n",
    "    # Filter a noisy signal.\n",
    "    T = 0.05\n",
    "    nsamples = int(T * fs)\n",
    "    t = np.linspace(0, T, nsamples, endpoint=False)\n",
    "    a = 0.02\n",
    "    f0 = 600.0\n",
    "    x = 0.1 * np.sin(2 * np.pi * 1.2 * np.sqrt(t))\n",
    "    x += 0.01 * np.cos(2 * np.pi * 312 * t + 0.1)\n",
    "    x += a * np.cos(2 * np.pi * f0 * t + .11)\n",
    "    x += 0.03 * np.cos(2 * np.pi * 2000 * t)\n",
    "    plt.figure(2)\n",
    "    plt.clf()\n",
    "    plt.plot(t, x, label='Noisy signal')\n",
    "\n",
    "    y = butter_bandpass_filter(x, lowcut, highcut, fs, order=6)\n",
    "    plt.plot(t, y, label='Filtered signal (%g Hz)' % f0)\n",
    "    plt.xlabel('time (seconds)')\n",
    "    plt.hlines([-a, a], 0, T, linestyles='--')\n",
    "    plt.grid(True)\n",
    "    plt.axis('tight')\n",
    "    plt.legend(loc='upper left')\n",
    "\n",
    "    plt.show()\n",
    "    \n",
    "# run()\n"
   ]
  },
  {
   "cell_type": "markdown",
   "metadata": {},
   "source": [
    "# MAIN PROGRAM"
   ]
  },
  {
   "cell_type": "code",
   "execution_count": 18,
   "metadata": {},
   "outputs": [],
   "source": [
    "# Step 1: Download the video (best quality, no audio)\n",
    "\n",
    "if os.path.exists(VIDEO_PATH):\n",
    "    pass\n",
    "else:\n",
    "    command = f'yt-dlp -o {VIDEO_PATH} -f bestvideo https://www.youtube.com/watch?v=IUQSZHr9h9Q'\n",
    "    os.system(command)"
   ]
  },
  {
   "cell_type": "code",
   "execution_count": 19,
   "metadata": {},
   "outputs": [],
   "source": [
    "# Step 2: Extract frames from the video\n",
    "\n",
    "if os.path.exists(FRAMES_DIR):\n",
    "    pass\n",
    "else:\n",
    "    os.mkdir(FRAMES_DIR)\n",
    "    command = f'ffmpeg -r 1 -i {VIDEO_PATH} -r 1 {FRAMES_DIR}/%04d.png'\n",
    "    os.system(command)"
   ]
  },
  {
   "cell_type": "code",
   "execution_count": 25,
   "metadata": {},
   "outputs": [],
   "source": [
    "# Process waveform\n",
    "\n",
    "raw_data = calc_intensity_time_series(FRAMES_DIR, FIRST_FRAME_NUM, LAST_FRAME_NUM)\n",
    "filtered_data = butter_bandpass_filter(data=raw_data, lowcut=30, highcut=2000, fs=SAMPLE_RATE, order=6)\n",
    "windowed_filtered_data = np.hanning(len(filtered_data)) * filtered_data"
   ]
  },
  {
   "cell_type": "code",
   "execution_count": 27,
   "metadata": {},
   "outputs": [
    {
     "name": "stderr",
     "output_type": "stream",
     "text": [
      "ic| samplerate: 6000\n",
      "ic| data.shape: (718,)\n"
     ]
    },
    {
     "data": {
      "text/plain": [
       "Text(0.5, 0.98, 'Windowed filtered data')"
      ]
     },
     "execution_count": 27,
     "metadata": {},
     "output_type": "execute_result"
    },
    {
     "data": {
      "image/png": "[encoded data removed]",
      "text/plain": [
       "<Figure size 700x700 with 2 Axes>"
      ]
     },
     "metadata": {},
     "output_type": "display_data"
    }
   ],
   "source": [
    "# Show results\n",
    "\n",
    "fig, (axt, axf) = plot_time_frequency(SAMPLE_RATE, windowed_filtered_data)\n",
    "fig.suptitle('Windowed filtered data')"
   ]
  },
  {
   "cell_type": "code",
   "execution_count": 29,
   "metadata": {},
   "outputs": [
    {
     "name": "stderr",
     "output_type": "stream",
     "text": [
      "ic| freq_from_autocorr(raw_data, fs): np.float64(59.23565203970279)\n",
      "ic| freq_from_autocorr(filtered_data, fs): np.float64(59.238071581839215)\n",
      "ic| freq_from_autocorr(windowed_filtered_data, fs): np.float64(59.947328461747055)\n"
     ]
    }
   ],
   "source": [
    "# Code from https://stackoverflow.com/questions/61534687/how-to-calculate-pitch-fundamental-frequency-f-0-in-time-domain\n",
    "\n",
    "import numpy as np\n",
    "from scipy.io import wavfile\n",
    "from scipy.signal import correlate, fftconvolve\n",
    "from scipy.interpolate import interp1d\n",
    "\n",
    "def parabolic(f, x):\n",
    "    xv = 1/2. * (f[x-1] - f[x+1]) / (f[x-1] - 2 * f[x] + f[x+1]) + x\n",
    "    yv = f[x] - 1/4. * (f[x-1] - f[x+1]) * (xv - x)\n",
    "    return (xv, yv)\n",
    "\n",
    "def freq_from_autocorr(sig, fs):\n",
    "    \"\"\"\n",
    "    Estimate frequency using autocorrelation\n",
    "    \"\"\"\n",
    "    corr = correlate(sig, sig, mode='full')\n",
    "    corr = corr[len(corr)//2:]\n",
    "    d = np.diff(corr)\n",
    "    start = np.nonzero(d > 0)[0][0]\n",
    "    peak = np.argmax(corr[start:]) + start\n",
    "    px, py = parabolic(corr, peak)\n",
    "\n",
    "    return fs / px\n",
    "\n",
    "fs = 6000.0\n",
    "ic(freq_from_autocorr(raw_data, fs));\n",
    "ic(freq_from_autocorr(filtered_data, fs));\n",
    "ic(freq_from_autocorr(windowed_filtered_data, fs));"
   ]
  },
  {
   "cell_type": "code",
   "execution_count": 26,
   "metadata": {},
   "outputs": [],
   "source": [
    "# # Step 3: Create a plot of intensity vs time\n",
    "\n",
    "\n",
    "\n",
    "# # create seconds_list which will be used for the x axis\n",
    "# seconds_list = [i/FPS for i in range(LAST_FRAME_NUM)]\n",
    "\n",
    "# # create intensity_list which will be used for the y axis\n",
    "# intensity_list = calc_intensity_list(FRAMES_DIR, FIRST_FRAME_NUM, LAST_FRAME_NUM)\n",
    "\n",
    "# # ensure that FIGURES_DIR exists\n",
    "# os.makedirs(FIGURES_DIR, exist_ok=True)\n",
    "\n",
    "# for frame_num in range(FIRST_FRAME_NUM, LAST_FRAME_NUM + 1):\n",
    "#     create_frame_intensity_figure(\n",
    "#         frame_num,\n",
    "#         seconds_list, \n",
    "#         intensity_list, \n",
    "#         frame_path = f'{FRAMES_DIR}/{frame_num:04d}.png', \n",
    "#         fig_path = f'{FIGURES_DIR}/{frame_num:04d}.png'\n",
    "#         )"
   ]
  },
  {
   "cell_type": "code",
   "execution_count": 15,
   "metadata": {},
   "outputs": [],
   "source": [
    "# # Step 3a: Save intensity_list as a WAV file\n",
    "\n",
    "# wavfile.write(filename='beetle.wav', rate=FPS, data=intensity_list)"
   ]
  },
  {
   "cell_type": "code",
   "execution_count": 11,
   "metadata": {},
   "outputs": [
    {
     "name": "stdout",
     "output_type": "stream",
     "text": [
      "FINISHED\n"
     ]
    }
   ],
   "source": [
    "print('FINISHED')"
   ]
  }
 ],
 "metadata": {
  "kernelspec": {
   "display_name": ".venv",
   "language": "python",
   "name": "python3"
  },
  "language_info": {
   "codemirror_mode": {
    "name": "ipython",
    "version": 3
   },
   "file_extension": ".py",
   "mimetype": "text/x-python",
   "name": "python",
   "nbconvert_exporter": "python",
   "pygments_lexer": "ipython3",
   "version": "3.10.12"
  }
 },
 "nbformat": 4,
 "nbformat_minor": 2
}
