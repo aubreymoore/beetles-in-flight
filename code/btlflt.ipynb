{
 "cells": [
  {
   "cell_type": "markdown",
   "metadata": {},
   "source": [
    "# btlflt.ipynb"
   ]
  },
  {
   "cell_type": "code",
   "execution_count": 24,
   "metadata": {},
   "outputs": [],
   "source": [
    "import os\n",
    "import cv2\n",
    "import numpy as np\n",
    "import matplotlib.pyplot as plt\n",
    "%matplotlib inline\n",
    "from IPython.display import display, clear_output\n",
    "from icecream import ic"
   ]
  },
  {
   "cell_type": "code",
   "execution_count": 25,
   "metadata": {},
   "outputs": [],
   "source": [
    "def calc_intensity_list(images_dir, first_frame_num, last_frame_num, normalize=True):\n",
    "    \"\"\"\n",
    "    Calculates the average intensity of pixels within each frame of the video scene.\n",
    "    If normalize is True, intensity_list will be normalized so that mean is zero and range is -1 to 1.\n",
    "    \"\"\"\n",
    "    intensity_list = []\n",
    "    for frame_num in range(first_frame_num, last_frame_num + 1):\n",
    "        image = cv2.imread(f'{images_dir}/{frame_num:04d}.png')\n",
    "        intensity = np.mean(image)\n",
    "        intensity_list.append(intensity)\n",
    "    if normalize:\n",
    "        intensity_list = normalize_array(intensity_list)\n",
    "    return intensity_list\n",
    "\n",
    "# calc_intensity_list(FRAMES_DIR, FIRST_FRAME_NUM, LAST_FRAME_NUM)"
   ]
  },
  {
   "cell_type": "code",
   "execution_count": 26,
   "metadata": {},
   "outputs": [],
   "source": [
    "def create_frame_intensity_figure(frame_num, seconds_list, intensity_list, frame_path, fig_path):\n",
    "    \"\"\"\n",
    "    Creates an image with two subplots: the frame image and the intensity plot.\n",
    "    \"\"\"\n",
    " \n",
    "    # Create figure\n",
    "    fig, (ax1, ax2) = plt.subplots(2, 1, figsize=(6,6))\n",
    "\n",
    "    # Create image plot\n",
    "    image = plt.imread(frame_path)\n",
    "    ax1.imshow(image)\n",
    "    ax1.set_title(f'Frame {frame_num} | normalized mean pixel intensity: {intensity_list[frame_num-1]:.2f}')\n",
    "    ax1.axis('off')\n",
    "\n",
    "    # Create a sample plot\n",
    "    x = seconds_list[:frame_num]\n",
    "    y = intensity_list[:frame_num]\n",
    "\n",
    "    ax2.plot(x, y)\n",
    "    ax2.set_xlabel('time (s)')\n",
    "    ax2.set_ylabel('normalized mean pixel intensity')\n",
    "    ax2.set_xlim(min(seconds_list), max(seconds_list))\n",
    "    ax2.set_ylim(-1, 1)\n",
    "\n",
    "    # plt.tight_layout()\n",
    "    \n",
    "    # Save figure in a file\n",
    "    fig.tight_layout\n",
    "    fig.savefig(fig_path)\n",
    "    plt.close(fig)\n",
    " \n",
    "   \n",
    "# create_frame_intensity_figure(1, seconds_list, intensity_list, 'frames/0001.png', 'test.png')"
   ]
  },
  {
   "cell_type": "code",
   "execution_count": 27,
   "metadata": {},
   "outputs": [],
   "source": [
    "def normalize_array(arr):\n",
    "    \"\"\" \n",
    "    Normalize array to range between -1 and 1 with a mean of 0.\n",
    "    \"\"\" \n",
    "    arr = arr - np.mean(arr)\n",
    "    scale_factor = max(abs(np.min(arr)), np.max(arr))\n",
    "    return arr / scale_factor\n",
    "\n",
    "# normalized_intensity_list = normalize_array(intensity_list)"
   ]
  },
  {
   "cell_type": "code",
   "execution_count": 28,
   "metadata": {},
   "outputs": [],
   "source": [
    "# Note: ```.gitignore``` includes VIDEOPATH and FRAMESDIR\n",
    "\n",
    "VIDEO_PATH = 'video.mp4'\n",
    "FRAMES_DIR = 'frames'\n",
    "FIGURES_DIR = 'figures'\n",
    "FIRST_FRAME_NUM = 1\n",
    "LAST_FRAME_NUM = 718\n",
    "FPS = 6000"
   ]
  },
  {
   "cell_type": "code",
   "execution_count": 29,
   "metadata": {},
   "outputs": [],
   "source": [
    "# Step 1: Download the video (best quality, no audio)\n",
    "\n",
    "if os.path.exists(VIDEO_PATH):\n",
    "    pass\n",
    "else:\n",
    "    command = f'yt-dlp -o {VIDEO_PATH} -f bestvideo https://www.youtube.com/watch?v=IUQSZHr9h9Q'\n",
    "    os.system(command)"
   ]
  },
  {
   "cell_type": "code",
   "execution_count": 30,
   "metadata": {},
   "outputs": [],
   "source": [
    "# Step 2: Extract frames from the video\n",
    "\n",
    "if os.path.exists(FRAMES_DIR):\n",
    "    pass\n",
    "else:\n",
    "    os.mkdir(FRAMES_DIR)\n",
    "    command = f'ffmpeg -r 1 -i {VIDEO_PATH} -r 1 {FRAMES_DIR}/%04d.png'\n",
    "    os.system(command)"
   ]
  },
  {
   "cell_type": "code",
   "execution_count": 31,
   "metadata": {},
   "outputs": [],
   "source": [
    "# Step 3: Create a plot of intensity vs time\n",
    "\n",
    "# create seconds_list which will be used for the x axis\n",
    "seconds_list = [i/FPS for i in range(LAST_FRAME_NUM)]\n",
    "\n",
    "# create intensity_list which will be used for the y axis\n",
    "intensity_list = calc_intensity_list(FRAMES_DIR, FIRST_FRAME_NUM, LAST_FRAME_NUM)\n",
    "\n",
    "# ensure that FIGURES_DIR exists\n",
    "os.makedirs(FIGURES_DIR, exist_ok=True)\n",
    "\n",
    "for frame_num in range(FIRST_FRAME_NUM, LAST_FRAME_NUM + 1):\n",
    "    create_frame_intensity_figure(\n",
    "        frame_num,\n",
    "        seconds_list, \n",
    "        intensity_list, \n",
    "        frame_path = f'{FRAMES_DIR}/{frame_num:04d}.png', \n",
    "        fig_path = f'{FIGURES_DIR}/{frame_num:04d}.png'\n",
    "        )"
   ]
  },
  {
   "cell_type": "code",
   "execution_count": 32,
   "metadata": {},
   "outputs": [
    {
     "name": "stdout",
     "output_type": "stream",
     "text": [
      "FINISHED\n"
     ]
    }
   ],
   "source": [
    "print('FINISHED')"
   ]
  }
 ],
 "metadata": {
  "kernelspec": {
   "display_name": ".venv",
   "language": "python",
   "name": "python3"
  },
  "language_info": {
   "codemirror_mode": {
    "name": "ipython",
    "version": 3
   },
   "file_extension": ".py",
   "mimetype": "text/x-python",
   "name": "python",
   "nbconvert_exporter": "python",
   "pygments_lexer": "ipython3",
   "version": "3.10.12"
  }
 },
 "nbformat": 4,
 "nbformat_minor": 2
}
