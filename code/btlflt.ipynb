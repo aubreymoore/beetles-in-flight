{
 "cells": [
  {
   "cell_type": "markdown",
   "metadata": {},
   "source": [
    "# btlflt.ipynb"
   ]
  },
  {
   "cell_type": "code",
   "execution_count": 16,
   "metadata": {},
   "outputs": [],
   "source": [
    "import os"
   ]
  },
  {
   "cell_type": "code",
   "execution_count": 17,
   "metadata": {},
   "outputs": [],
   "source": [
    "# Note: ```.gitignore``` includes VIDEOPATH and FRAMESDIR\n",
    "\n",
    "VIDEOPATH = 'video.mp4'\n",
    "FRAMESDIR = 'frames'"
   ]
  },
  {
   "cell_type": "code",
   "execution_count": 18,
   "metadata": {},
   "outputs": [],
   "source": [
    "# Step 1: Download the video (best quality, no audio)\n",
    "\n",
    "if os.path.exists(VIDEOPATH):\n",
    "    pass\n",
    "else:\n",
    "    command = f'yt-dlp -o {VIDEOPATH} -f bestvideo https://www.youtube.com/watch?v=IUQSZHr9h9Q'\n",
    "    os.system(command)"
   ]
  },
  {
   "cell_type": "code",
   "execution_count": 19,
   "metadata": {},
   "outputs": [],
   "source": [
    "# Step 2: Extract frames from the video\n",
    "\n",
    "if os.path.exists(FRAMESDIR):\n",
    "    pass\n",
    "else:\n",
    "    os.mkdir(FRAMESDIR)\n",
    "    command = f'ffmpeg -r 1 -i {VIDEOPATH} -r 1 {FRAMESDIR}/%04d.png'\n",
    "    os.system(command)"
   ]
  }
 ],
 "metadata": {
  "kernelspec": {
   "display_name": ".venv",
   "language": "python",
   "name": "python3"
  },
  "language_info": {
   "codemirror_mode": {
    "name": "ipython",
    "version": 3
   },
   "file_extension": ".py",
   "mimetype": "text/x-python",
   "name": "python",
   "nbconvert_exporter": "python",
   "pygments_lexer": "ipython3",
   "version": "3.10.12"
  }
 },
 "nbformat": 4,
 "nbformat_minor": 2
}
